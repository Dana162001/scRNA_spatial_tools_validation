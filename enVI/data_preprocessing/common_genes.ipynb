{
 "cells": [
  {
   "cell_type": "code",
   "execution_count": 1,
   "metadata": {},
   "outputs": [],
   "source": [
    "import scanpy as sc\n",
    "import matplotlib as plt\n",
    "import anndata\n",
    "import numpy as np"
   ]
  },
  {
   "cell_type": "code",
   "execution_count": 2,
   "metadata": {},
   "outputs": [],
   "source": [
    "complete = sc.read_h5ad('/hpcwork/rwth1209/data/merfish/test_imputation/heart_high_counts.h5ad')\n",
    "#scref_all = sc.read_h5ad(\"/work/rwth1209/dana_projects/test_new_imputation_tools/enVI/data_preprocessing/scrna_ref_all_raw_array.h5ad\")"
   ]
  },
  {
   "cell_type": "code",
   "execution_count": 3,
   "metadata": {},
   "outputs": [
    {
     "data": {
      "text/plain": [
       "AnnData object with n_obs × n_vars = 180489 × 500\n",
       "    obs: 'fov', 'volume', 'min_x', 'min_y', 'max_x', 'max_y', 'anisotropy', 'transcript_count', 'perimeter_area_ratio', 'solidity', 'CX43_raw', 'CX43_high_pass', 'Cellbound2_raw', 'Cellbound2_high_pass', 'Cellbound1_raw', 'Cellbound1_high_pass', 'Cellbound3_raw', 'Cellbound3_high_pass', 'DES_raw', 'DES_high_pass', 'VIM_raw', 'VIM_high_pass', 'DAPI_raw', 'DAPI_high_pass', 'NCAM1_raw', 'NCAM1_high_pass', 'MPO_raw', 'MPO_high_pass', 'COL1A_raw', 'COL1A_high_pass', 'PolyT_raw', 'PolyT_high_pass', 'region', 'COLIII_raw', 'COLIII_high_pass', 'Beta-3-Tubulin_raw', 'Beta-3-Tubulin_high_pass', 'COL3_raw', 'COL3_high_pass', 'dataset', 'n_counts', 'n_genes', 'tacco', 'tacco_score', '_scvi_batch', '_scvi_labels', 'leiden_R', 'fibro_score', 'myofibro_score', 'Fibroblast_Type', 'Fibroblast_Leiden', 'Preliminary CT', 'Preliminary_CT', 'peri_score', 'leiden_0.2', 'leiden_0.5', 'leiden_1', 'leiden_1.5', 'cell_type', 'cleanup_0', 'cardio_score', 'adipo_score'\n",
       "    uns: 'Fibroblast_Subclusters', 'Preliminary_CT_colors', '_scvi_manager_uuid', '_scvi_uuid', 'cell_type_colors', 'cleanup_0', 'dataset_colors', 'leiden', 'leiden_0.2_colors', 'leiden_0.5_colors', 'leiden_1.5_colors', 'leiden_1_colors', 'neighbors', 'rank_genes_groups', 'tacco_colors'\n",
       "    obsm: 'X_scVI', 'X_scVI_MDE', '_scvi_extra_continuous_covs', 'blank_genes', 'spatial', 'tacco', 'tacco_mc8'\n",
       "    varm: 'tacco_mc8'\n",
       "    layers: 'counts', 'scvi_normalized'\n",
       "    obsp: 'connectivities', 'distances'"
      ]
     },
     "execution_count": 3,
     "metadata": {},
     "output_type": "execute_result"
    }
   ],
   "source": [
    "complete"
   ]
  },
  {
   "cell_type": "markdown",
   "metadata": {},
   "source": [
    "###### Super specific genes: CCL21,MMRN1,PRF1,TBX1,PRF1\n",
    "###### Medium specific genes: NEXN,CACNA1D,PPP2R2B,BASP1,TM4SF1\n",
    "###### Low specific genes: RNF19A,IMMP2L,NFKB1,CCDC141,SMC4\n",
    "###### three genes that are in spatial but not in scref (otherwise gives an error) not_in_ref = ['MARCHF1','CYRIB','PRANCR']"
   ]
  },
  {
   "cell_type": "code",
   "execution_count": 4,
   "metadata": {},
   "outputs": [],
   "source": [
    "genes_to_remove = ['CCL21', 'MMRN1', 'PRF1', 'TBX1', 'PRF1',\n",
    "                    'NEXN', 'CACNA1D', 'PPP2R2B', 'BASP1', 'TM4SF1',\n",
    "                      'RNF19A', 'IMMP2L', 'NFKB1', 'CCDC141', 'SMC4',\n",
    "                      'MARCHF1','CYRIB','PRANCR']\n",
    "#genes_to_remove = ['MARCHF1','CYRIB','PRANCR']\n",
    "#not_in_ref = ['MARCHF1','CYRIB','PRANCR']\n",
    "#genes_complete = list(complete.var_names)\n",
    "#all_genes_ref = list(scref_all.var_names)\n"
   ]
  },
  {
   "cell_type": "code",
   "execution_count": 6,
   "metadata": {},
   "outputs": [
    {
     "data": {
      "text/plain": [
       "500"
      ]
     },
     "execution_count": 6,
     "metadata": {},
     "output_type": "execute_result"
    }
   ],
   "source": [
    "len(genes_complete)"
   ]
  },
  {
   "cell_type": "code",
   "execution_count": 7,
   "metadata": {},
   "outputs": [],
   "source": [
    "#save all genes from complete to .txt file\n",
    "with open('500_gene_list.txt', 'w') as f:\n",
    "    # Write each gene to the file\n",
    "    for gene in genes_complete:\n",
    "        f.write(f\"{gene}\\n\")"
   ]
  },
  {
   "cell_type": "markdown",
   "metadata": {},
   "source": [
    "# First prepeare spatial data (removing genes that are going to be tested and that are not in the ref dataset)"
   ]
  },
  {
   "cell_type": "code",
   "execution_count": 5,
   "metadata": {},
   "outputs": [
    {
     "data": {
      "text/plain": [
       "330.0"
      ]
     },
     "execution_count": 5,
     "metadata": {},
     "output_type": "execute_result"
    }
   ],
   "source": [
    "# .X norm to raw\n",
    "complete.X.max()"
   ]
  },
  {
   "cell_type": "code",
   "execution_count": 6,
   "metadata": {},
   "outputs": [],
   "source": [
    "X_array = (complete.layers['counts']).toarray() "
   ]
  },
  {
   "cell_type": "code",
   "execution_count": 7,
   "metadata": {},
   "outputs": [],
   "source": [
    "complete.X = X_array"
   ]
  },
  {
   "cell_type": "code",
   "execution_count": 8,
   "metadata": {},
   "outputs": [
    {
     "data": {
      "text/plain": [
       "330.0"
      ]
     },
     "execution_count": 8,
     "metadata": {},
     "output_type": "execute_result"
    }
   ],
   "source": [
    "complete.X.max()"
   ]
  },
  {
   "cell_type": "code",
   "execution_count": 19,
   "metadata": {},
   "outputs": [
    {
     "name": "stdout",
     "output_type": "stream",
     "text": [
      "MARCHF1\n",
      "CYRIB\n",
      "PRANCR\n"
     ]
    }
   ],
   "source": [
    "# for gene in genes_complete:\n",
    "#     if gene not in all_genes_ref:\n",
    "#         print(gene)"
   ]
  },
  {
   "cell_type": "code",
   "execution_count": 9,
   "metadata": {},
   "outputs": [],
   "source": [
    "genes_to_keep = [gene for gene in complete.var_names if gene not in genes_to_remove]\n",
    "\n",
    "withhelded = complete[:, genes_to_keep]"
   ]
  },
  {
   "cell_type": "code",
   "execution_count": 10,
   "metadata": {},
   "outputs": [
    {
     "data": {
      "text/plain": [
       "483"
      ]
     },
     "execution_count": 10,
     "metadata": {},
     "output_type": "execute_result"
    }
   ],
   "source": [
    "len(genes_to_keep)"
   ]
  },
  {
   "cell_type": "code",
   "execution_count": 11,
   "metadata": {},
   "outputs": [
    {
     "data": {
      "text/plain": [
       "View of AnnData object with n_obs × n_vars = 180489 × 483\n",
       "    obs: 'fov', 'volume', 'min_x', 'min_y', 'max_x', 'max_y', 'anisotropy', 'transcript_count', 'perimeter_area_ratio', 'solidity', 'CX43_raw', 'CX43_high_pass', 'Cellbound2_raw', 'Cellbound2_high_pass', 'Cellbound1_raw', 'Cellbound1_high_pass', 'Cellbound3_raw', 'Cellbound3_high_pass', 'DES_raw', 'DES_high_pass', 'VIM_raw', 'VIM_high_pass', 'DAPI_raw', 'DAPI_high_pass', 'NCAM1_raw', 'NCAM1_high_pass', 'MPO_raw', 'MPO_high_pass', 'COL1A_raw', 'COL1A_high_pass', 'PolyT_raw', 'PolyT_high_pass', 'region', 'COLIII_raw', 'COLIII_high_pass', 'Beta-3-Tubulin_raw', 'Beta-3-Tubulin_high_pass', 'COL3_raw', 'COL3_high_pass', 'dataset', 'n_counts', 'n_genes', 'tacco', 'tacco_score', '_scvi_batch', '_scvi_labels', 'leiden_R', 'fibro_score', 'myofibro_score', 'Fibroblast_Type', 'Fibroblast_Leiden', 'Preliminary CT', 'Preliminary_CT', 'peri_score', 'leiden_0.2', 'leiden_0.5', 'leiden_1', 'leiden_1.5', 'cell_type', 'cleanup_0', 'cardio_score', 'adipo_score'\n",
       "    uns: 'Fibroblast_Subclusters', 'Preliminary_CT_colors', '_scvi_manager_uuid', '_scvi_uuid', 'cell_type_colors', 'cleanup_0', 'dataset_colors', 'leiden', 'leiden_0.2_colors', 'leiden_0.5_colors', 'leiden_1.5_colors', 'leiden_1_colors', 'neighbors', 'rank_genes_groups', 'tacco_colors'\n",
       "    obsm: 'X_scVI', 'X_scVI_MDE', '_scvi_extra_continuous_covs', 'blank_genes', 'spatial', 'tacco', 'tacco_mc8'\n",
       "    varm: 'tacco_mc8'\n",
       "    layers: 'counts', 'scvi_normalized'\n",
       "    obsp: 'connectivities', 'distances'"
      ]
     },
     "execution_count": 11,
     "metadata": {},
     "output_type": "execute_result"
    }
   ],
   "source": [
    "withhelded"
   ]
  },
  {
   "cell_type": "code",
   "execution_count": 13,
   "metadata": {},
   "outputs": [
    {
     "data": {
      "text/plain": [
       "array(330., dtype=float32)"
      ]
     },
     "execution_count": 13,
     "metadata": {},
     "output_type": "execute_result"
    }
   ],
   "source": [
    "withhelded.X.max()"
   ]
  },
  {
   "cell_type": "code",
   "execution_count": 12,
   "metadata": {},
   "outputs": [
    {
     "data": {
      "text/plain": [
       "ArrayView([[0., 0., 0., ..., 0., 0., 0.],\n",
       "           [0., 0., 0., ..., 0., 0., 0.],\n",
       "           [0., 0., 0., ..., 0., 0., 0.],\n",
       "           ...,\n",
       "           [0., 0., 0., ..., 0., 0., 0.],\n",
       "           [0., 0., 0., ..., 0., 0., 0.],\n",
       "           [0., 0., 0., ..., 0., 0., 0.]], dtype=float32)"
      ]
     },
     "execution_count": 12,
     "metadata": {},
     "output_type": "execute_result"
    }
   ],
   "source": [
    "withhelded.X"
   ]
  },
  {
   "cell_type": "code",
   "execution_count": 14,
   "metadata": {},
   "outputs": [],
   "source": [
    "withhelded.write('withhelded_high_counts_array_raw_483_genes.h5ad')"
   ]
  },
  {
   "cell_type": "code",
   "execution_count": null,
   "metadata": {},
   "outputs": [],
   "source": []
  },
  {
   "cell_type": "code",
   "execution_count": null,
   "metadata": {},
   "outputs": [],
   "source": []
  },
  {
   "cell_type": "markdown",
   "metadata": {},
   "source": [
    "# Second prepare scref dataset (array, raw counts,)\n",
    "# HVG 3000"
   ]
  },
  {
   "cell_type": "code",
   "execution_count": 28,
   "metadata": {},
   "outputs": [
    {
     "name": "stderr",
     "output_type": "stream",
     "text": [
      "/home/xu262605/anaconda3/envs/spatial_data/lib/python3.9/site-packages/anndata/_core/anndata.py:1908: UserWarning: Variable names are not unique. To make them unique, call `.var_names_make_unique`.\n",
      "  utils.warn_names_duplicates(\"var\")\n"
     ]
    }
   ],
   "source": [
    "scref = sc.read_h5ad(\"/work/rwth1209/dana_projects/test_new_imputation_tools/enVI/ref/snRNA_teichman_atlas_normalized.h5ad\")\n",
    "scref_raw = sc.read_h5ad(\"/work/rwth1209/dana_projects/test_new_imputation_tools/enVI/ref/snRNA_teichman_atlas_raw.h5ad\")"
   ]
  },
  {
   "cell_type": "code",
   "execution_count": 29,
   "metadata": {},
   "outputs": [
    {
     "name": "stderr",
     "output_type": "stream",
     "text": [
      "/home/xu262605/anaconda3/envs/spatial_data/lib/python3.9/site-packages/scanpy/preprocessing/_highly_variable_genes.py:226: FutureWarning: The default of observed=False is deprecated and will be changed to True in a future version of pandas. Pass observed=False to retain current behavior or observed=True to adopt the future default and silence this warning.\n",
      "  disp_grouped = df.groupby(\"mean_bin\")[\"dispersions\"]\n"
     ]
    }
   ],
   "source": [
    "sc.pp.highly_variable_genes(scref, n_top_genes = 3000)"
   ]
  },
  {
   "cell_type": "code",
   "execution_count": 35,
   "metadata": {},
   "outputs": [],
   "source": [
    "#del scref.var['gene_name_multiome-2-original']"
   ]
  },
  {
   "cell_type": "code",
   "execution_count": 36,
   "metadata": {},
   "outputs": [
    {
     "data": {
      "text/html": [
       "<div>\n",
       "<style scoped>\n",
       "    .dataframe tbody tr th:only-of-type {\n",
       "        vertical-align: middle;\n",
       "    }\n",
       "\n",
       "    .dataframe tbody tr th {\n",
       "        vertical-align: top;\n",
       "    }\n",
       "\n",
       "    .dataframe thead th {\n",
       "        text-align: right;\n",
       "    }\n",
       "</style>\n",
       "<table border=\"1\" class=\"dataframe\">\n",
       "  <thead>\n",
       "    <tr style=\"text-align: right;\">\n",
       "      <th></th>\n",
       "      <th>gene_id</th>\n",
       "      <th>highly_variable</th>\n",
       "      <th>means</th>\n",
       "      <th>dispersions</th>\n",
       "      <th>dispersions_norm</th>\n",
       "    </tr>\n",
       "    <tr>\n",
       "      <th>gene_name-new</th>\n",
       "      <th></th>\n",
       "      <th></th>\n",
       "      <th></th>\n",
       "      <th></th>\n",
       "      <th></th>\n",
       "    </tr>\n",
       "  </thead>\n",
       "  <tbody>\n",
       "    <tr>\n",
       "      <th>MIR1302-2HG</th>\n",
       "      <td>ENSG00000243485</td>\n",
       "      <td>False</td>\n",
       "      <td>5.424499e-04</td>\n",
       "      <td>1.904405</td>\n",
       "      <td>0.162199</td>\n",
       "    </tr>\n",
       "    <tr>\n",
       "      <th>FAM138A</th>\n",
       "      <td>ENSG00000237613</td>\n",
       "      <td>False</td>\n",
       "      <td>1.000000e-12</td>\n",
       "      <td>NaN</td>\n",
       "      <td>NaN</td>\n",
       "    </tr>\n",
       "    <tr>\n",
       "      <th>OR4F5</th>\n",
       "      <td>ENSG00000186092</td>\n",
       "      <td>False</td>\n",
       "      <td>1.359877e-04</td>\n",
       "      <td>1.460643</td>\n",
       "      <td>-0.863429</td>\n",
       "    </tr>\n",
       "    <tr>\n",
       "      <th>AL627309.1</th>\n",
       "      <td>ENSG00000238009</td>\n",
       "      <td>False</td>\n",
       "      <td>4.132853e-02</td>\n",
       "      <td>1.850842</td>\n",
       "      <td>0.038404</td>\n",
       "    </tr>\n",
       "    <tr>\n",
       "      <th>AL627309.3</th>\n",
       "      <td>ENSG00000239945</td>\n",
       "      <td>False</td>\n",
       "      <td>5.499083e-06</td>\n",
       "      <td>0.346018</td>\n",
       "      <td>-3.439563</td>\n",
       "    </tr>\n",
       "    <tr>\n",
       "      <th>...</th>\n",
       "      <td>...</td>\n",
       "      <td>...</td>\n",
       "      <td>...</td>\n",
       "      <td>...</td>\n",
       "      <td>...</td>\n",
       "    </tr>\n",
       "    <tr>\n",
       "      <th>AC233755.2</th>\n",
       "      <td>ENSG00000277856</td>\n",
       "      <td>False</td>\n",
       "      <td>1.621396e-05</td>\n",
       "      <td>1.177938</td>\n",
       "      <td>-1.516820</td>\n",
       "    </tr>\n",
       "    <tr>\n",
       "      <th>AC233755.1</th>\n",
       "      <td>ENSG00000275063</td>\n",
       "      <td>False</td>\n",
       "      <td>1.395225e-05</td>\n",
       "      <td>1.277081</td>\n",
       "      <td>-1.287678</td>\n",
       "    </tr>\n",
       "    <tr>\n",
       "      <th>AC240274.1</th>\n",
       "      <td>ENSG00000271254</td>\n",
       "      <td>False</td>\n",
       "      <td>3.349808e-02</td>\n",
       "      <td>1.911611</td>\n",
       "      <td>0.178854</td>\n",
       "    </tr>\n",
       "    <tr>\n",
       "      <th>AC213203.2</th>\n",
       "      <td>ENSG00000277475</td>\n",
       "      <td>False</td>\n",
       "      <td>2.346425e-06</td>\n",
       "      <td>-0.505672</td>\n",
       "      <td>-5.407998</td>\n",
       "    </tr>\n",
       "    <tr>\n",
       "      <th>AC213203.1</th>\n",
       "      <td>ENSG00000268674</td>\n",
       "      <td>False</td>\n",
       "      <td>5.974752e-05</td>\n",
       "      <td>1.750896</td>\n",
       "      <td>-0.192593</td>\n",
       "    </tr>\n",
       "  </tbody>\n",
       "</table>\n",
       "<p>32732 rows × 5 columns</p>\n",
       "</div>"
      ],
      "text/plain": [
       "                       gene_id  highly_variable         means  dispersions  \\\n",
       "gene_name-new                                                                \n",
       "MIR1302-2HG    ENSG00000243485            False  5.424499e-04     1.904405   \n",
       "FAM138A        ENSG00000237613            False  1.000000e-12          NaN   \n",
       "OR4F5          ENSG00000186092            False  1.359877e-04     1.460643   \n",
       "AL627309.1     ENSG00000238009            False  4.132853e-02     1.850842   \n",
       "AL627309.3     ENSG00000239945            False  5.499083e-06     0.346018   \n",
       "...                        ...              ...           ...          ...   \n",
       "AC233755.2     ENSG00000277856            False  1.621396e-05     1.177938   \n",
       "AC233755.1     ENSG00000275063            False  1.395225e-05     1.277081   \n",
       "AC240274.1     ENSG00000271254            False  3.349808e-02     1.911611   \n",
       "AC213203.2     ENSG00000277475            False  2.346425e-06    -0.505672   \n",
       "AC213203.1     ENSG00000268674            False  5.974752e-05     1.750896   \n",
       "\n",
       "               dispersions_norm  \n",
       "gene_name-new                    \n",
       "MIR1302-2HG            0.162199  \n",
       "FAM138A                     NaN  \n",
       "OR4F5                 -0.863429  \n",
       "AL627309.1             0.038404  \n",
       "AL627309.3            -3.439563  \n",
       "...                         ...  \n",
       "AC233755.2            -1.516820  \n",
       "AC233755.1            -1.287678  \n",
       "AC240274.1             0.178854  \n",
       "AC213203.2            -5.407998  \n",
       "AC213203.1            -0.192593  \n",
       "\n",
       "[32732 rows x 5 columns]"
      ]
     },
     "execution_count": 36,
     "metadata": {},
     "output_type": "execute_result"
    }
   ],
   "source": [
    "scref.var"
   ]
  },
  {
   "cell_type": "code",
   "execution_count": 37,
   "metadata": {},
   "outputs": [
    {
     "data": {
      "text/plain": [
       "9.030837"
      ]
     },
     "execution_count": 37,
     "metadata": {},
     "output_type": "execute_result"
    }
   ],
   "source": [
    "scref.X.max()"
   ]
  },
  {
   "cell_type": "code",
   "execution_count": 39,
   "metadata": {},
   "outputs": [],
   "source": [
    "scref.layers['counts_norm'] = scref.X"
   ]
  },
  {
   "cell_type": "code",
   "execution_count": 41,
   "metadata": {},
   "outputs": [],
   "source": [
    "scref.X = scref_raw.X"
   ]
  },
  {
   "cell_type": "code",
   "execution_count": 42,
   "metadata": {},
   "outputs": [
    {
     "data": {
      "text/plain": [
       "17441.0"
      ]
     },
     "execution_count": 42,
     "metadata": {},
     "output_type": "execute_result"
    }
   ],
   "source": [
    "scref.X.max()"
   ]
  },
  {
   "cell_type": "code",
   "execution_count": 43,
   "metadata": {},
   "outputs": [
    {
     "data": {
      "text/plain": [
       "<257029x32732 sparse matrix of type '<class 'numpy.float32'>'\n",
       "\twith 372161202 stored elements in Compressed Sparse Row format>"
      ]
     },
     "execution_count": 43,
     "metadata": {},
     "output_type": "execute_result"
    }
   ],
   "source": [
    "scref.X"
   ]
  },
  {
   "cell_type": "code",
   "execution_count": 44,
   "metadata": {},
   "outputs": [],
   "source": [
    "array_X = (scref.X).toarray() "
   ]
  },
  {
   "cell_type": "code",
   "execution_count": 45,
   "metadata": {},
   "outputs": [
    {
     "data": {
      "text/plain": [
       "array([[0., 0., 0., ..., 0., 0., 0.],\n",
       "       [0., 0., 0., ..., 0., 0., 0.],\n",
       "       [0., 0., 0., ..., 1., 0., 0.],\n",
       "       ...,\n",
       "       [0., 0., 0., ..., 0., 0., 0.],\n",
       "       [0., 0., 0., ..., 0., 0., 0.],\n",
       "       [0., 0., 0., ..., 0., 0., 0.]], dtype=float32)"
      ]
     },
     "execution_count": 45,
     "metadata": {},
     "output_type": "execute_result"
    }
   ],
   "source": [
    "array_X"
   ]
  },
  {
   "cell_type": "code",
   "execution_count": 46,
   "metadata": {},
   "outputs": [],
   "source": [
    "del scref.X"
   ]
  },
  {
   "cell_type": "code",
   "execution_count": 47,
   "metadata": {},
   "outputs": [],
   "source": [
    "scref.X = array_X"
   ]
  },
  {
   "cell_type": "code",
   "execution_count": 48,
   "metadata": {},
   "outputs": [],
   "source": [
    "#filter out genes; only keep hvg and which are in st data\n",
    "import numpy as np\n",
    "\n",
    "highly_variable_genes = scref.var['highly_variable']\n",
    "\n",
    "genes_to_keep = list(withhelded.var_names)\n",
    "genes_to_keep_set = set(genes_to_keep)\n",
    "\n",
    "combined_genes = np.union1d(np.where(highly_variable_genes)[0], np.where(scref.var_names.isin(genes_to_keep_set))[0])\n",
    "scref = scref[:, combined_genes]"
   ]
  },
  {
   "cell_type": "code",
   "execution_count": 49,
   "metadata": {},
   "outputs": [
    {
     "data": {
      "text/plain": [
       "View of AnnData object with n_obs × n_vars = 257029 × 3180\n",
       "    obs: 'sangerID', 'donor', 'donor_type', 'region', 'age', 'gender', 'facility', 'cell_or_nuclei', 'modality', 'kit_10x', 'flushed', 'cell_type', 'cell_state', 'n_genes', 'n_genes_by_counts', 'total_counts', 'total_counts_mt', 'pct_counts_mt', 'total_counts_ribo', 'pct_counts_ribo', 'scrublet_score'\n",
       "    var: 'gene_id', 'highly_variable', 'means', 'dispersions', 'dispersions_norm'\n",
       "    uns: 'age_colors', 'cell_or_nuclei_colors', 'cell_state_colors', 'cell_type_colors', 'donor_colors', 'donor_type_colors', 'facility_colors', 'flushed_colors', 'gender_colors', 'kit_10x_colors', 'leiden', 'log1p', 'modality_colors', 'neighbors', 'original_or_new_colors', 'region_colors', 'region_finest_colors', 'scANVI_predictions_colors', 'umap', 'hvg'\n",
       "    obsm: 'X_umap'\n",
       "    layers: 'counts_norm'\n",
       "    obsp: 'connectivities', 'distances'"
      ]
     },
     "execution_count": 49,
     "metadata": {},
     "output_type": "execute_result"
    }
   ],
   "source": [
    "scref"
   ]
  },
  {
   "cell_type": "code",
   "execution_count": 50,
   "metadata": {},
   "outputs": [
    {
     "data": {
      "text/plain": [
       "ArrayView([[  0.,   1.,   0., ..., 175., 222.,   0.],\n",
       "           [  0.,   4.,   0., ..., 185., 142.,   0.],\n",
       "           [  0.,   2.,   0., ...,  53.,  70.,   0.],\n",
       "           ...,\n",
       "           [  0.,   0.,   0., ...,   0.,   0.,   0.],\n",
       "           [  0.,   0.,   0., ...,   0.,   0.,   0.],\n",
       "           [  0.,   0.,   0., ...,   0.,   0.,   0.]], dtype=float32)"
      ]
     },
     "execution_count": 50,
     "metadata": {},
     "output_type": "execute_result"
    }
   ],
   "source": [
    "scref.X"
   ]
  },
  {
   "cell_type": "code",
   "execution_count": 51,
   "metadata": {},
   "outputs": [
    {
     "data": {
      "text/plain": [
       "array(17441., dtype=float32)"
      ]
     },
     "execution_count": 51,
     "metadata": {},
     "output_type": "execute_result"
    }
   ],
   "source": [
    "scref.X.max()"
   ]
  },
  {
   "cell_type": "code",
   "execution_count": 52,
   "metadata": {},
   "outputs": [],
   "source": [
    "scref.write('scref_3000hvg.h5ad')"
   ]
  },
  {
   "cell_type": "code",
   "execution_count": null,
   "metadata": {},
   "outputs": [],
   "source": []
  }
 ],
 "metadata": {
  "kernelspec": {
   "display_name": "spatial_data",
   "language": "python",
   "name": "python3"
  },
  "language_info": {
   "codemirror_mode": {
    "name": "ipython",
    "version": 3
   },
   "file_extension": ".py",
   "mimetype": "text/x-python",
   "name": "python",
   "nbconvert_exporter": "python",
   "pygments_lexer": "ipython3",
   "version": "3.9.18"
  }
 },
 "nbformat": 4,
 "nbformat_minor": 2
}
